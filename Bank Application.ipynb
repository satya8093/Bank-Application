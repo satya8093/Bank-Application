{
 "cells": [
  {
   "cell_type": "code",
   "execution_count": 1,
   "metadata": {},
   "outputs": [],
   "source": [
    "def withdraw_money(index):\n",
    "    bal_list=database.get(\"Balance\")\n",
    "    print(\"Enter amount...\")\n",
    "    amount=int(input())\n",
    "    if amount <= bal_list[index]:\n",
    "        print(\" Don't Forget to Collect your Cash...\")\n",
    "        bal_list[index]-=amount\n",
    "        database[\"Balance\"]=bal_list\n",
    "        print(\"Clear Balnce=\",bal_list[index])\n",
    "        print(\"\\n\\nWant to withdraw more? Type yes or no to go back at account details page.\")\n",
    "        want=input().strip().lower()\n",
    "        if want==\"yes\":\n",
    "            print(\"\\n\")\n",
    "            withdraw_money(index)\n",
    "        else:\n",
    "            print(\"\\n\")\n",
    "            account_detail(index)\n",
    "            \n",
    "    else:\n",
    "        print(\"Insufficient funds...):\")\n",
    "        print(\"Enter again.\")\n",
    "        withdraw_money(index)\n",
    "    "
   ]
  },
  {
   "cell_type": "code",
   "execution_count": 2,
   "metadata": {},
   "outputs": [],
   "source": [
    "def deposit_money(index):\n",
    "    print(\"\\n\\n\")\n",
    "    print(\"Enter Amount below.\")\n",
    "    bal_list=database.get(\"Balance\")\n",
    "    amount=int(input())\n",
    "    bal_list[index]+=amount\n",
    "    print(\"!!! Succesfully Added !!!\")\n",
    "    print(\"Updated Balance-->\",bal_list[index])\n",
    "    print(\"\\n\\n\")\n",
    "    print(\"Do You Want To Add More? Type yes or no for go to Account Details.\")\n",
    "    choice=input().lower().strip()\n",
    "    if choice==\"yes\":\n",
    "        print(\"\\n\\n\")\n",
    "        deposit_money(index)\n",
    "    else:\n",
    "        print(\"\")\n",
    "        account_detail(index)\n",
    "    \n",
    "    \n",
    "    \n",
    "    \n",
    "    "
   ]
  },
  {
   "cell_type": "code",
   "execution_count": 3,
   "metadata": {},
   "outputs": [],
   "source": [
    "def change_pass(index):\n",
    "    pass_list=database.get(\"Password\")\n",
    "    print(\"\\n\\n\")\n",
    "    print(\"Current Password.\")\n",
    "    curr_pass=input()\n",
    "    if curr_pass == pass_list[index]:\n",
    "        print(\"New Passwors.\")\n",
    "        new_pass=input()\n",
    "        print(\"Confirm Password.\")\n",
    "        cnfm_pass=input()\n",
    "        if cnfm_pass==new_pass:\n",
    "            pass_list[index]=cnfm_pass\n",
    "            database[\"Password\"]=pass_list\n",
    "            print(\"\\n\\nYour Password is successfully updated\")\n",
    "            print(\"Login to continue.\\n\\n\")\n",
    "            login()\n",
    "            \n",
    "        else:\n",
    "            print(\"Password not Matched,Enter Again. \")\n",
    "            change_pass(index)\n",
    "    else:\n",
    "        print(\"Password not Matched,Enter Again. \")\n",
    "        change_pass(index)\n",
    "        \n",
    "            \n",
    "        \n",
    "    "
   ]
  },
  {
   "cell_type": "code",
   "execution_count": 4,
   "metadata": {},
   "outputs": [],
   "source": [
    "\n",
    "database={\n",
    "    \"Name\":[\"Smith\",\"David\",\"Mosh\"],\n",
    "    \"Account Number\":[1001,1002,1003],\n",
    "    \"Password\":[\"smith\",\"david\",\"mosh\"],\n",
    "    \"Balance\":[26546554,446554132,4654651]\n",
    "}\n"
   ]
  },
  {
   "cell_type": "code",
   "execution_count": 5,
   "metadata": {},
   "outputs": [],
   "source": [
    "def account_detail(index):\n",
    "    acc_no_list=database.get(\"Account Number\")\n",
    "    pass_list=database.get(\"Password\")\n",
    "    name_list=database.get(\"Name\")\n",
    "    bal_list=database.get(\"Balance\")\n",
    "    print(\"Account Holder Name:- \",name_list[index])\n",
    "    print(\"Account Number:- \",acc_no_list[index])\n",
    "    print(\"Clear Balance:- \",bal_list[index])\n",
    "    print(\"\\n\\n!!! Enter Your Choice !!!\")\n",
    "    print(\"1--> To withdraw money.\".rjust(15))\n",
    "    print(\"2--> To deposit money.\".rjust(15))\n",
    "    print(\"3--> To change password.\".rjust(15))\n",
    "    print(\"4--> Log out\")\n",
    "    option=int(input())\n",
    "    if option==1:\n",
    "        withdraw_money(index)\n",
    "    elif option==2:\n",
    "        deposit_money(index)\n",
    "    elif option==3:\n",
    "        change_pass(index)\n",
    "    elif option==4:\n",
    "        home_page()\n",
    "    \n",
    "        "
   ]
  },
  {
   "cell_type": "code",
   "execution_count": 6,
   "metadata": {},
   "outputs": [],
   "source": [
    "def login():\n",
    "    print(\"Enter Account No...\")\n",
    "    account_no=int(input())\n",
    "    if account_no in database.get(\"Account Number\"):\n",
    "        acc_no_list=database.get(\"Account Number\")\n",
    "        index=acc_no_list.index(account_no)\n",
    "        print(\"Enter your password\")\n",
    "        password=input()\n",
    "        pass_list=database.get(\"Password\")\n",
    "        if password==pass_list[index]:\n",
    "            print(\"\\n\\n\\nYou are successfully logged in..Here's  your Account Details.\\n\\n\\n\")\n",
    "            account_detail(index)\n",
    "            \n",
    "\n",
    "        else:\n",
    "            print(\"Invalid Login Details...\")\n",
    "            home_page()     \n",
    "    else:\n",
    "        print(\"Invalid Login Details...\")\n",
    "        home_page()\n",
    "        \n",
    "        "
   ]
  },
  {
   "cell_type": "code",
   "execution_count": 11,
   "metadata": {},
   "outputs": [],
   "source": [
    "def home_page():\n",
    "    print(\"YOU ARE WELCOME\".center(102,\"*\"),end=\"\\n\\n\\n\")\n",
    "    print(\"!!!!!Enter your choice!!!!\".rjust(65))\n",
    "    print(\"1--> Login\".rjust(55))\n",
    "    print(\"2--> Sign-up\".rjust(57))\n",
    "    print(\"3--> Exit\".rjust(54))\n",
    "    choice=int(input())\n",
    "    if choice>3:\n",
    "        print(\"Invalid choice....Enter 1 for Login 2 for Sign-up or 3 for Exit\")\n",
    "        home_page()\n",
    "    elif choice==1:\n",
    "        login()\n",
    "    elif choice==2:\n",
    "        signup()\n",
    "    elif choice==3:\n",
    "        print(\"Exiting...............\".center(75))\n",
    "        print(\"Thank's for banking with us :)\".center(95))"
   ]
  },
  {
   "cell_type": "code",
   "execution_count": 12,
   "metadata": {},
   "outputs": [],
   "source": [
    "def signup():\n",
    "    print(\"\\n\\n\")\n",
    "    print(\"!!! Sign Up !!!\".center(100))\n",
    "    print(\"**Security IS Our First Priority**\\\\n\".center(100))\n",
    "    print(\"Name-->\")\n",
    "    name=input()\n",
    "    database[\"Name\"].append(name)\n",
    "    print(\"Password-->\")\n",
    "    password=input()\n",
    "    database[\"Password\"].append(password)\n",
    "    name_list=database.get(\"Name\")\n",
    "    l=len(name_list)\n",
    "    account_number=1000+l\n",
    "    database[\"Account Number\"].append(account_number)\n",
    "    print(\"Your Account Number is--> \",account_number)\n",
    "    print(\"Enter Amount to deposit(Minimum ₹500/-)\")\n",
    "    Min_Amount()\n",
    "    \n",
    "        \n",
    "    "
   ]
  },
  {
   "cell_type": "code",
   "execution_count": 13,
   "metadata": {},
   "outputs": [],
   "source": [
    "def Min_Amount():    \n",
    "    amount=int(input())\n",
    "    if amount>=500:\n",
    "        database[\"Balance\"].append(amount)\n",
    "        print(\"\\n\\n\")\n",
    "        print(\"!!! Your Account Is succesfully Created !!!\")\n",
    "        print(\"Login to continue.\")\n",
    "        login()\n",
    "    else:\n",
    "        print(\"!!! Sorry !!!\")\n",
    "        print(\"Minimum balance should be ₹500\\-\")\n",
    "        print(\"Enter Again.\")\n",
    "        Min_Amount()\n",
    "          "
   ]
  },
  {
   "cell_type": "code",
   "execution_count": 14,
   "metadata": {},
   "outputs": [
    {
     "name": "stdout",
     "output_type": "stream",
     "text": [
      "*******************************************YOU ARE WELCOME********************************************\n",
      "\n",
      "\n",
      "                                       !!!!!Enter your choice!!!!\n",
      "                                             1--> Login\n",
      "                                             2--> Sign-up\n",
      "                                             3--> Exit\n",
      "3\n",
      "                           Exiting...............                          \n",
      "                                 Thank's for banking with us :)                                \n"
     ]
    }
   ],
   "source": [
    "home_page()"
   ]
  },
  {
   "cell_type": "code",
   "execution_count": null,
   "metadata": {},
   "outputs": [],
   "source": [
    "print(database)"
   ]
  },
  {
   "cell_type": "code",
   "execution_count": null,
   "metadata": {},
   "outputs": [],
   "source": []
  },
  {
   "cell_type": "code",
   "execution_count": null,
   "metadata": {},
   "outputs": [],
   "source": []
  },
  {
   "cell_type": "code",
   "execution_count": null,
   "metadata": {},
   "outputs": [],
   "source": []
  }
 ],
 "metadata": {
  "kernelspec": {
   "display_name": "Python 3",
   "language": "python",
   "name": "python3"
  },
  "language_info": {
   "codemirror_mode": {
    "name": "ipython",
    "version": 3
   },
   "file_extension": ".py",
   "mimetype": "text/x-python",
   "name": "python",
   "nbconvert_exporter": "python",
   "pygments_lexer": "ipython3",
   "version": "3.6.5"
  }
 },
 "nbformat": 4,
 "nbformat_minor": 2
}
